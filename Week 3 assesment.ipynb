{
 "cells": [
  {
   "cell_type": "markdown",
   "metadata": {},
   "source": [
    "<center>\n",
    "    <img src=\"https://s3-api.us-geo.objectstorage.softlayer.net/cf-courses-data/CognitiveClass/Logos/organization_logo/organization_logo.png\" width=\"300\" alt=\"cognitiveclass.ai logo\"  />\n",
    "</center>\n"
   ]
  },
  {
   "cell_type": "markdown",
   "metadata": {},
   "source": [
    "#### Add your code below following the instructions given in the course\n"
   ]
  },
  {
   "cell_type": "markdown",
   "metadata": {},
   "source": [
    "<a href=\"https://dataplatform.cloud.ibm.com/gallery\">IBM Cloud Gallery</a> "
   ]
  },
  {
   "cell_type": "markdown",
   "metadata": {},
   "source": [
    "<h1> My Jupiter Notebook on IBM Watson Studio </h1>"
   ]
  },
  {
   "cell_type": "markdown",
   "metadata": {},
   "source": [
    "**Thomas DEMARS**"
   ]
  },
  {
   "cell_type": "markdown",
   "metadata": {},
   "source": [
    "I'm currently doing a cybersecurity master's degree"
   ]
  },
  {
   "cell_type": "markdown",
   "metadata": {},
   "source": [
    "*I am interested in data science because it can be applied in nearly every field in the world. And data scientist can have a real impact in the world*"
   ]
  },
  {
   "cell_type": "markdown",
   "metadata": {},
   "source": [
    "<h3> In the next cell, I'm going to code an algorithm to sort an array then test it </h3>"
   ]
  },
  {
   "cell_type": "code",
   "execution_count": 7,
   "metadata": {},
   "outputs": [
    {
     "name": "stdout",
     "output_type": "stream",
     "text": [
      "Original array : [5, 16, 16, 2, 19, 16, 19, 14, 15, 6]\n",
      "Sorted array : [2, 5, 6, 14, 15, 16, 16, 16, 19, 19]\n"
     ]
    }
   ],
   "source": [
    "import random\n",
    "\n",
    "# Function to sort an array\n",
    "def sort_array(array):\n",
    "    N = len(array)\n",
    "    for n in range(1,N):\n",
    "        key = array[n]\n",
    "        j = n-1\n",
    "        while j>=0 and array[j] > key:\n",
    "            array[j+1] = array[j] # offset\n",
    "            j = j-1\n",
    "        array[j+1] = key\n",
    "\n",
    "# initialize an array of size 10 with random values\n",
    "array = []\n",
    "for k in range(10):\n",
    "    array.append(random.randint(0,20))\n",
    "print(\"Original array : \" + str(array))\n",
    "\n",
    "# Sorting the array\n",
    "sort_array(array)\n",
    "print(\"Sorted array : \" + str(array))\n"
   ]
  },
  {
   "cell_type": "markdown",
   "metadata": {},
   "source": [
    "***\n",
    "\n",
    "<a href=\"https://www.insa-centrevaldeloire.fr/en/\">My school website</a>\n",
    "![My school logo](https://www.insa-centrevaldeloire.fr/sites/all/themes/insa/images/logos/insa.gif)\n",
    "\n",
    "***\n",
    "\n",
    "1. Here is a list\n",
    "2. Of three elements\n",
    "3. i'm the last element\n",
    "\n"
   ]
  }
 ],
 "metadata": {
  "kernelspec": {
   "display_name": "Python",
   "language": "python",
   "name": "conda-env-python-py"
  },
  "language_info": {
   "codemirror_mode": {
    "name": "ipython",
    "version": 3
   },
   "file_extension": ".py",
   "mimetype": "text/x-python",
   "name": "python",
   "nbconvert_exporter": "python",
   "pygments_lexer": "ipython3",
   "version": "3.7.12"
  }
 },
 "nbformat": 4,
 "nbformat_minor": 4
}
